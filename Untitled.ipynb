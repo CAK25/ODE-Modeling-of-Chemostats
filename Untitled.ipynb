{
 "cells": [
  {
   "cell_type": "code",
   "execution_count": 2,
   "id": "2cd3614e",
   "metadata": {},
   "outputs": [
    {
     "ename": "IndentationError",
     "evalue": "unexpected indent (3641509041.py, line 20)",
     "output_type": "error",
     "traceback": [
      "\u001b[1;36m  Input \u001b[1;32mIn [2]\u001b[1;36m\u001b[0m\n\u001b[1;33m    umax=0.4\u001b[0m\n\u001b[1;37m    ^\u001b[0m\n\u001b[1;31mIndentationError\u001b[0m\u001b[1;31m:\u001b[0m unexpected indent\n"
     ]
    }
   ],
   "source": [
    "\n",
    "import numpy as np\n",
    "import matplotlib.pyplot as plt\n",
    "%matplotlib inline\n",
    "\n",
    "from math import sin\n",
    "from plotdf import plotdf\n",
    "  \n",
    "def derivatives(v):\n",
    "    x,s=v;\n",
    "    #x=v[0]\n",
    "    #s=v[1]\n",
    "    \n",
    "    #Define parameters\n",
    "    \n",
    "#     c0=8\n",
    "#     q=1\n",
    "#     Rmax=2\n",
    "#     Km=4\n",
    "#     y=0.25\n",
    "      umax=0.4\n",
    "      Ks=0.05\n",
    "      D=0.12 \n",
    "      x=1e10**7\n",
    "      Y=4.6e10**7\n",
    "      R=0.8\n",
    "      s=0.8 \n",
    "    \n",
    "    r=(Rmax*c)/(Km+c)\n",
    "  \n",
    "    #Define the deriVative equations\n",
    "    f = np.array([umax*s/(Ks+s)*x-D*x\n",
    "                 D*R-D*s-x/Y*umax*s/(Ks+s)])\n",
    "    return f\n",
    "\n",
    "plotdf(derivatives, # Function giving the rhs of the diff. eq. system\n",
    "     np.array([0,4]), # [xmin,xmax]\n",
    "     np.array([0,15]),# [ymin,ymax]\n",
    "     [(1,1),(3,9),(0.1,0.1)], # list of initial values for trajectories (optional)\n",
    "     # Additional parameters for `f` (optional)\n",
    "     gridsteps=20,\n",
    "     nsteps = 1000,\n",
    "     tmax=20)\n",
    "\n",
    "plt.xlabel(\"N\")\n",
    "plt.ylabel(\"c\")\n",
    "plt.title(\"Phase Plane Analysis of Chemostat\");\n",
    "plt.plot(1,4,'o')\n",
    "plt.plot(0,8,'o')"
   ]
  },
  {
   "cell_type": "code",
   "execution_count": null,
   "id": "43c316aa",
   "metadata": {},
   "outputs": [],
   "source": []
  }
 ],
 "metadata": {
  "kernelspec": {
   "display_name": "Python 3 (ipykernel)",
   "language": "python",
   "name": "python3"
  },
  "language_info": {
   "codemirror_mode": {
    "name": "ipython",
    "version": 3
   },
   "file_extension": ".py",
   "mimetype": "text/x-python",
   "name": "python",
   "nbconvert_exporter": "python",
   "pygments_lexer": "ipython3",
   "version": "3.9.12"
  }
 },
 "nbformat": 4,
 "nbformat_minor": 5
}
